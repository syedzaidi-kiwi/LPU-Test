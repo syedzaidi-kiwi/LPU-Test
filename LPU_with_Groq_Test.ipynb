{
  "nbformat": 4,
  "nbformat_minor": 0,
  "metadata": {
    "colab": {
      "provenance": [],
      "authorship_tag": "ABX9TyMt9FxmZL6NsqforwxzdZyZ",
      "include_colab_link": true
    },
    "kernelspec": {
      "name": "python3",
      "display_name": "Python 3"
    },
    "language_info": {
      "name": "python"
    }
  },
  "cells": [
    {
      "cell_type": "markdown",
      "metadata": {
        "id": "view-in-github",
        "colab_type": "text"
      },
      "source": [
        "<a href=\"https://colab.research.google.com/github/syedzaidi-kiwi/LPU-Test/blob/main/LPU_with_Groq_Test.ipynb\" target=\"_parent\"><img src=\"https://colab.research.google.com/assets/colab-badge.svg\" alt=\"Open In Colab\"/></a>"
      ]
    },
    {
      "cell_type": "code",
      "execution_count": null,
      "metadata": {
        "colab": {
          "base_uri": "https://localhost:8080/"
        },
        "id": "txQ77_l7gUXH",
        "outputId": "2cc2af4b-415e-45e0-8edd-ab18aed630c4"
      },
      "outputs": [
        {
          "output_type": "stream",
          "name": "stdout",
          "text": [
            "Collecting groq\n",
            "  Downloading groq-0.4.1-py3-none-any.whl (65 kB)\n",
            "\u001b[?25l     \u001b[90m━━━━━━━━━━━━━━━━━━━━━━━━━━━━━━━━━━━━━━━━\u001b[0m \u001b[32m0.0/65.5 kB\u001b[0m \u001b[31m?\u001b[0m eta \u001b[36m-:--:--\u001b[0m\r\u001b[2K     \u001b[90m━━━━━━━━━━━━━━━━━━━━━━━━━━━━━━━━━━━━━━━━\u001b[0m \u001b[32m65.5/65.5 kB\u001b[0m \u001b[31m2.0 MB/s\u001b[0m eta \u001b[36m0:00:00\u001b[0m\n",
            "\u001b[?25hRequirement already satisfied: anyio<5,>=3.5.0 in /usr/local/lib/python3.10/dist-packages (from groq) (3.7.1)\n",
            "Requirement already satisfied: distro<2,>=1.7.0 in /usr/lib/python3/dist-packages (from groq) (1.7.0)\n",
            "Collecting httpx<1,>=0.23.0 (from groq)\n",
            "  Downloading httpx-0.27.0-py3-none-any.whl (75 kB)\n",
            "\u001b[2K     \u001b[90m━━━━━━━━━━━━━━━━━━━━━━━━━━━━━━━━━━━━━━━━\u001b[0m \u001b[32m75.6/75.6 kB\u001b[0m \u001b[31m5.0 MB/s\u001b[0m eta \u001b[36m0:00:00\u001b[0m\n",
            "\u001b[?25hRequirement already satisfied: pydantic<3,>=1.9.0 in /usr/local/lib/python3.10/dist-packages (from groq) (2.6.3)\n",
            "Requirement already satisfied: sniffio in /usr/local/lib/python3.10/dist-packages (from groq) (1.3.1)\n",
            "Requirement already satisfied: typing-extensions<5,>=4.7 in /usr/local/lib/python3.10/dist-packages (from groq) (4.10.0)\n",
            "Requirement already satisfied: idna>=2.8 in /usr/local/lib/python3.10/dist-packages (from anyio<5,>=3.5.0->groq) (3.6)\n",
            "Requirement already satisfied: exceptiongroup in /usr/local/lib/python3.10/dist-packages (from anyio<5,>=3.5.0->groq) (1.2.0)\n",
            "Requirement already satisfied: certifi in /usr/local/lib/python3.10/dist-packages (from httpx<1,>=0.23.0->groq) (2024.2.2)\n",
            "Collecting httpcore==1.* (from httpx<1,>=0.23.0->groq)\n",
            "  Downloading httpcore-1.0.4-py3-none-any.whl (77 kB)\n",
            "\u001b[2K     \u001b[90m━━━━━━━━━━━━━━━━━━━━━━━━━━━━━━━━━━━━━━━━\u001b[0m \u001b[32m77.8/77.8 kB\u001b[0m \u001b[31m9.2 MB/s\u001b[0m eta \u001b[36m0:00:00\u001b[0m\n",
            "\u001b[?25hCollecting h11<0.15,>=0.13 (from httpcore==1.*->httpx<1,>=0.23.0->groq)\n",
            "  Downloading h11-0.14.0-py3-none-any.whl (58 kB)\n",
            "\u001b[2K     \u001b[90m━━━━━━━━━━━━━━━━━━━━━━━━━━━━━━━━━━━━━━━━\u001b[0m \u001b[32m58.3/58.3 kB\u001b[0m \u001b[31m7.2 MB/s\u001b[0m eta \u001b[36m0:00:00\u001b[0m\n",
            "\u001b[?25hRequirement already satisfied: annotated-types>=0.4.0 in /usr/local/lib/python3.10/dist-packages (from pydantic<3,>=1.9.0->groq) (0.6.0)\n",
            "Requirement already satisfied: pydantic-core==2.16.3 in /usr/local/lib/python3.10/dist-packages (from pydantic<3,>=1.9.0->groq) (2.16.3)\n",
            "Installing collected packages: h11, httpcore, httpx, groq\n",
            "Successfully installed groq-0.4.1 h11-0.14.0 httpcore-1.0.4 httpx-0.27.0\n"
          ]
        }
      ],
      "source": [
        "pip install groq\n"
      ]
    },
    {
      "cell_type": "code",
      "source": [
        "# Pseudo-code for fetching a secret from Google Colab\n",
        "from google.colab import userdata\n",
        "\n",
        "# Fetch the API key stored in Google Colab's secret storage\n",
        "api_key = userdata.get(\"GROQ_API_KEY\")"
      ],
      "metadata": {
        "id": "aOf01pzlhpZX"
      },
      "execution_count": null,
      "outputs": []
    },
    {
      "cell_type": "code",
      "source": [
        "import os\n",
        "\n",
        "from groq import Groq\n",
        "\n",
        "\n",
        "\n",
        "client = Groq(\n",
        "    api_key=api_key,\n",
        ")\n",
        "\n",
        "chat_completion = client.chat.completions.create(\n",
        "    messages=[\n",
        "        {\n",
        "            \"role\": \"user\",\n",
        "            \"content\": \"Give me the good things about India\",\n",
        "        }\n",
        "    ],\n",
        "    model=\"mixtral-8x7b-32768\",\n",
        ")\n",
        "\n",
        "print(chat_completion.choices[0].message.content)\n"
      ],
      "metadata": {
        "colab": {
          "base_uri": "https://localhost:8080/"
        },
        "id": "iPmenuzVg_-W",
        "outputId": "e1e226f3-914a-4dec-810c-02a00ea5f2eb"
      },
      "execution_count": null,
      "outputs": [
        {
          "output_type": "stream",
          "name": "stdout",
          "text": [
            "Sure, I'd be happy to share some of the many positive aspects of India!\n",
            "\n",
            "1. Rich Culture: India has one of the world's oldest civilizations and a rich cultural history. It is known for its diverse traditions, customs, and festivals, which are a reflection of the country's multicultural society.\n",
            "\n",
            "2. Delicious Cuisine: Indian cuisine is renowned worldwide for its bold, diverse flavors and use of various spices. From spicy curries to sweet desserts, Indian food offers something for everyone.\n",
            "\n",
            "3. Natural Beauty: India is home to some of the most stunning landscapes in the world, from the majestic Himalayan mountain range in the north to the beautiful beaches in the south, and from the deserts in the west to the lush green forests in the east.\n",
            "\n",
            "4. Yoga and Meditation: India is the birthplace of Yoga and Meditation, which have become popular practices worldwide for promoting physical and mental well-being.\n",
            "\n",
            "5. Diversity: India is a land of diverse religions, languages, and cultures. This diversity is reflected in its architecture, music, dance, and literature, making it a unique and fascinating country to explore.\n",
            "\n",
            "6. Economic Growth: India is one of the fastest-growing economies in the world, with a large and growing middle class. It is home to a thriving tech industry and is a leader in areas such as pharmaceuticals, telecommunications, and information technology.\n",
            "\n",
            "7. Film Industry: India has the world's largest film industry, known as Bollywood, which produces more than 1,000 films each year in multiple languages.\n",
            "\n",
            "8. Hospitality: India is famous for its hospitality and the concept of \"Atithi Devo Bhava,\" which means \"The guest is equivalent to God.\" Indians believe in treating their guests with utmost respect and providing them with the best possible experience.\n",
            "\n",
            "9. Education: India has a long tradition of academic excellence, and it is home to some of the world's leading universities and research institutions.\n",
            "\n",
            "10. Spirituality: India is the birthplace of several major religions, including Hinduism, Buddhism, Jainism, and Sikhism. It is a land of spirituality, where people of different faiths coexist and practice their beliefs freely.\n"
          ]
        }
      ]
    }
  ]
}